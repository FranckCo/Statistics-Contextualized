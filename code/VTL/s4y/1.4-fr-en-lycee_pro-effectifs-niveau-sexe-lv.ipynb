{
 "cells": [
  {
   "cell_type": "markdown",
   "id": "45908f85-6122-473b-8057-440490e9720a",
   "metadata": {
    "papermill": {
     "duration": 0.002784,
     "end_time": "2022-11-17T12:44:36.146893",
     "exception": false,
     "start_time": "2022-11-17T12:44:36.144109",
     "status": "completed"
    },
    "tags": []
   },
   "source": [
    "# Students - Professional high school"
   ]
  },
  {
   "cell_type": "markdown",
   "id": "ac9f23f7-1744-4a4d-af0f-a9cc20328e0e",
   "metadata": {
    "papermill": {
     "duration": 0.002466,
     "end_time": "2022-11-17T12:44:36.155021",
     "exception": false,
     "start_time": "2022-11-17T12:44:36.152555",
     "status": "completed"
    },
    "tags": []
   },
   "source": [
    "## Load dataset"
   ]
  },
  {
   "cell_type": "code",
   "execution_count": null,
   "id": "f006320c-7d22-4fad-a879-ddbd12913b37",
   "metadata": {
    "papermill": {
     "duration": 8.815858,
     "end_time": "2022-11-17T12:44:44.973200",
     "exception": false,
     "start_time": "2022-11-17T12:44:36.157342",
     "status": "completed"
    },
    "tags": [],
    "vscode": {
     "languageId": "trevas vtl engine"
    }
   },
   "outputs": [],
   "source": [
    "input_table := loadS3(\"s3a://projet-vtl/migration-v2/interstat/input/fr-en-lycee_pro-effectifs-niveau-sexe-lv\");\n",
    "showM := showMetadata(input_table);"
   ]
  },
  {
   "cell_type": "markdown",
   "id": "5323a75a-7ba6-4ecf-a733-5c6b23d8e3b1",
   "metadata": {
    "papermill": {
     "duration": 0.00365,
     "end_time": "2022-11-17T12:44:44.982257",
     "exception": false,
     "start_time": "2022-11-17T12:44:44.978607",
     "status": "completed"
    },
    "tags": []
   },
   "source": [
    "## VTL script"
   ]
  },
  {
   "cell_type": "markdown",
   "id": "a8c466b4-cabb-4552-b2cc-921b6b75e08b",
   "metadata": {
    "papermill": {
     "duration": 0.003335,
     "end_time": "2022-11-17T12:44:44.989099",
     "exception": false,
     "start_time": "2022-11-17T12:44:44.985764",
     "status": "completed"
    },
    "tags": []
   },
   "source": [
    "### Rename variables"
   ]
  },
  {
   "cell_type": "code",
   "execution_count": null,
   "id": "66b40c34-6405-4b60-8f79-584a4945abc5",
   "metadata": {
    "papermill": {
     "duration": 0.070313,
     "end_time": "2022-11-17T12:44:45.062615",
     "exception": false,
     "start_time": "2022-11-17T12:44:44.992302",
     "status": "completed"
    },
    "tags": [],
    "vscode": {
     "languageId": "trevas vtl engine"
    }
   },
   "outputs": [],
   "source": [
    "work := input_table[rename rentree_scolaire to year, numero_du_lycee to school_id, nombre_d_eleves to student_number];\n",
    "showM := showMetadata(work);"
   ]
  },
  {
   "attachments": {},
   "cell_type": "markdown",
   "id": "439fca9a-b8ba-4828-aca2-f0ee48814519",
   "metadata": {
    "papermill": {
     "duration": 0.00603,
     "end_time": "2022-11-17T12:44:45.074517",
     "exception": false,
     "start_time": "2022-11-17T12:44:45.068487",
     "status": "completed"
    },
    "tags": []
   },
   "source": [
    "### Define column roles"
   ]
  },
  {
   "cell_type": "code",
   "execution_count": null,
   "id": "667cc5e3-e05e-4719-861f-51425b89bd89",
   "metadata": {
    "papermill": {
     "duration": 0.191843,
     "end_time": "2022-11-17T12:44:45.271877",
     "exception": false,
     "start_time": "2022-11-17T12:44:45.080034",
     "status": "completed"
    },
    "tags": [],
    "vscode": {
     "languageId": "trevas vtl engine"
    }
   },
   "outputs": [],
   "source": [
    "work := work[calc identifier year := year, identifier school_id := school_id];\n",
    "showM := showMetadata(work);"
   ]
  },
  {
   "cell_type": "markdown",
   "id": "4d48b819-6d81-4a33-9f86-644483f048b5",
   "metadata": {
    "papermill": {
     "duration": 0.00603,
     "end_time": "2022-11-17T12:44:45.074517",
     "exception": false,
     "start_time": "2022-11-17T12:44:45.068487",
     "status": "completed"
    },
    "tags": []
   },
   "source": [
    "### Fix column types"
   ]
  },
  {
   "cell_type": "code",
   "execution_count": null,
   "id": "cfbd6b09-1270-468a-9fbd-b619a313d496",
   "metadata": {
    "papermill": {
     "duration": 0.191843,
     "end_time": "2022-11-17T12:44:45.271877",
     "exception": false,
     "start_time": "2022-11-17T12:44:45.080034",
     "status": "completed"
    },
    "tags": [],
    "vscode": {
     "languageId": "trevas vtl engine"
    }
   },
   "outputs": [],
   "source": [
    "work := work[calc student_number := cast(student_number, integer)];\n",
    "showM := showMetadata(work);"
   ]
  },
  {
   "cell_type": "markdown",
   "id": "6262e2ab-d71a-4baf-99b3-637b00e7312a",
   "metadata": {
    "papermill": {
     "duration": 0.004552,
     "end_time": "2022-11-17T12:44:45.282650",
     "exception": false,
     "start_time": "2022-11-17T12:44:45.278098",
     "status": "completed"
    },
    "tags": []
   },
   "source": [
    "## Write dataset"
   ]
  },
  {
   "cell_type": "code",
   "execution_count": null,
   "id": "d606104d-fc1f-4364-a167-fd7dc36aebe6",
   "metadata": {
    "papermill": {
     "duration": 5.644698,
     "end_time": "2022-11-17T12:44:50.931525",
     "exception": false,
     "start_time": "2022-11-17T12:44:45.286827",
     "status": "completed"
    },
    "tags": [],
    "vscode": {
     "languageId": "trevas vtl engine"
    }
   },
   "outputs": [],
   "source": [
    "write := writeS3(\"s3a://projet-vtl/migration-v2/interstat/work/students/professional_high_school\", work);\n",
    "status := show(write);"
   ]
  }
 ],
 "metadata": {
  "kernelspec": {
   "display_name": "Trevas VTL",
   "language": "vtl",
   "name": "trevas"
  },
  "language_info": {
   "file_extension": ".txt",
   "mimetype": "text/plain",
   "name": "Trevas VTL engine"
  },
  "papermill": {
   "default_parameters": {},
   "duration": 18.658995,
   "end_time": "2022-11-17T12:44:51.318238",
   "environment_variables": {},
   "exception": null,
   "input_path": "/home/onyxia/work/students/fr-en-lycee_pro-effectifs-niveau-sexe-lv.ipynb",
   "output_path": "/home/onyxia/work/students/fr-en-lycee_pro-effectifs-niveau-sexe-lv.ipynb",
   "parameters": {},
   "start_time": "2022-11-17T12:44:32.659243",
   "version": "2.3.4"
  }
 },
 "nbformat": 4,
 "nbformat_minor": 5
}
