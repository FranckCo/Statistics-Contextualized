{
 "cells": [
  {
   "cell_type": "markdown",
   "id": "e8725e70-b641-4ddc-a678-1811b6f446c8",
   "metadata": {
    "papermill": {
     "duration": 0.00578,
     "end_time": "2022-11-17T10:55:53.518596",
     "exception": false,
     "start_time": "2022-11-17T10:55:53.512816",
     "status": "completed"
    },
    "tags": []
   },
   "source": [
    "# Schools"
   ]
  },
  {
   "cell_type": "markdown",
   "id": "cb3cd7c9-feb7-4110-be87-ac50404129b5",
   "metadata": {
    "papermill": {
     "duration": 0.002899,
     "end_time": "2022-11-17T10:55:53.525622",
     "exception": false,
     "start_time": "2022-11-17T10:55:53.522723",
     "status": "completed"
    },
    "tags": []
   },
   "source": [
    "## Load dataset"
   ]
  },
  {
   "cell_type": "code",
   "execution_count": null,
   "id": "4f0655c1-36af-4997-8439-6cde4883830c",
   "metadata": {
    "papermill": {
     "duration": 8.567737,
     "end_time": "2022-11-17T10:56:02.096069",
     "exception": false,
     "start_time": "2022-11-17T10:55:53.528332",
     "status": "completed"
    },
    "tags": []
   },
   "outputs": [],
   "source": [
    "input_table := loadS3(\"s3a://projet-vtl/interstat/input/schools\");\n",
    "showM := showMetadata(input_table);"
   ]
  },
  {
   "cell_type": "markdown",
   "id": "5cf2e8ec-6192-4180-b949-4f7487a9824b",
   "metadata": {
    "papermill": {
     "duration": 0.003798,
     "end_time": "2022-11-17T10:56:02.105192",
     "exception": false,
     "start_time": "2022-11-17T10:56:02.101394",
     "status": "completed"
    },
    "tags": []
   },
   "source": [
    "## VTL script"
   ]
  },
  {
   "cell_type": "markdown",
   "id": "b3cccc61-0415-4a0e-92e7-50c258686ef9",
   "metadata": {
    "papermill": {
     "duration": 0.003109,
     "end_time": "2022-11-17T10:56:02.111330",
     "exception": false,
     "start_time": "2022-11-17T10:56:02.108221",
     "status": "completed"
    },
    "tags": []
   },
   "source": [
    "### Fix column types"
   ]
  },
  {
   "cell_type": "code",
   "execution_count": null,
   "id": "7eed1a31-734e-47af-9526-f54ab250ec0b",
   "metadata": {
    "papermill": {
     "duration": 0.228896,
     "end_time": "2022-11-17T10:56:02.343186",
     "exception": false,
     "start_time": "2022-11-17T10:56:02.114290",
     "status": "completed"
    },
    "tags": []
   },
   "outputs": [],
   "source": [
    "work := input_table[calc latitude := cast(latitude, number), longitude := cast(longitude, number)];\n",
    "showM := showMetadata(work);"
   ]
  },
  {
   "cell_type": "markdown",
   "id": "c1489ca6-da22-4494-955e-0ffc26b89228",
   "metadata": {
    "papermill": {
     "duration": 0.228896,
     "end_time": "2022-11-17T10:56:02.343186",
     "exception": false,
     "start_time": "2022-11-17T10:56:02.114290",
     "status": "completed"
    },
    "tags": []
   },
   "source": [
    "### Recode `institution_type` variable"
   ]
  },
  {
   "cell_type": "code",
   "execution_count": null,
   "id": "837e6ede-beb2-4298-b2b9-257ee1bd30c4",
   "metadata": {
    "papermill": {
     "duration": 0.228896,
     "end_time": "2022-11-17T10:56:02.343186",
     "exception": false,
     "start_time": "2022-11-17T10:56:02.114290",
     "status": "completed"
    },
    "tags": []
   },
   "outputs": [],
   "source": [
    "work := work [calc institution_type := if institution_type = \"Public\" then \"PU\" else (\n",
    "                                            if institution_type = \"Privé\"\n",
    "                                            then \"PR\"\n",
    "                                            else null\n",
    "                                            )];\n",
    "showM := showMetadata(work);"
   ]
  },
  {
   "cell_type": "markdown",
   "id": "a20f64ae-a614-45dd-83c0-ceb32b321d21",
   "metadata": {
    "papermill": {
     "duration": 0.228896,
     "end_time": "2022-11-17T10:56:02.343186",
     "exception": false,
     "start_time": "2022-11-17T10:56:02.114290",
     "status": "completed"
    },
    "tags": []
   },
   "source": [
    "### Add `arm` variable"
   ]
  },
  {
   "cell_type": "code",
   "execution_count": null,
   "id": "b543ebd5-d92d-43b1-a735-d4ec0b52d458",
   "metadata": {
    "papermill": {
     "duration": 0.228896,
     "end_time": "2022-11-17T10:56:02.343186",
     "exception": false,
     "start_time": "2022-11-17T10:56:02.114290",
     "status": "completed"
    },
    "tags": []
   },
   "outputs": [],
   "source": [
    "work := work [calc arm := if lau in {\"75101\", \"75102\", \"75103\", \"75104\", \"75105\", \"75106\", \"75107\", \"75108\", \"75109\", \"75110\", \"75111\", \"75112\", \"75113\", \"75114\", \"75115\", \"75116\", \"75117\", \"75118\", \"75119\", \"75120\"}\n",
    "                            then \"75056\"\n",
    "                            else (\n",
    "                                if lau in {\"69381\", \"69382\", \"69383\", \"69384\", \"69385\", \"69386\", \"69387\", \"69388\", \"69389\"}\n",
    "                                then \"69123\"\n",
    "                                else (\n",
    "                                    if lau in {\"13201\", \"13202\", \"13203\", \"13204\", \"13205\", \"13206\", \"13207\", \"13208\", \"13209\", \"13210\", \"13211\",\"13212\", \"13213\", \"13214\", \"13215\", \"13216\"}\n",
    "                                    then \"13055\"\n",
    "                                    else null\n",
    "                                )\n",
    "                            )];\n",
    "showM := showMetadata(work);"
   ]
  },
  {
   "cell_type": "markdown",
   "id": "58d35db6-9949-4dd4-9c50-991e78c745bb",
   "metadata": {
    "papermill": {
     "duration": 0.005851,
     "end_time": "2022-11-17T10:56:02.358337",
     "exception": false,
     "start_time": "2022-11-17T10:56:02.352486",
     "status": "completed"
    },
    "tags": []
   },
   "source": [
    "## Write dataset"
   ]
  },
  {
   "cell_type": "code",
   "execution_count": null,
   "id": "41faf120-ebc5-4f68-b3ee-b617e21129ea",
   "metadata": {
    "papermill": {
     "duration": 7.011593,
     "end_time": "2022-11-17T10:56:09.374249",
     "exception": false,
     "start_time": "2022-11-17T10:56:02.362656",
     "status": "completed"
    },
    "tags": []
   },
   "outputs": [],
   "source": [
    "write := writeS3(\"s3a://projet-vtl/interstat/work/schools/school_registry\", work);\n",
    "status := show(write);"
   ]
  }
 ],
 "metadata": {
  "kernelspec": {
   "display_name": "Trevas VTL",
   "language": "vtl",
   "name": "trevas"
  },
  "language_info": {
   "file_extension": ".txt",
   "mimetype": "text/plain",
   "name": "Trevas VTL engine"
  },
  "papermill": {
   "default_parameters": {},
   "duration": 20.266988,
   "end_time": "2022-11-17T10:56:09.846714",
   "environment_variables": {},
   "exception": null,
   "input_path": "/home/onyxia/work/schools.ipynb",
   "output_path": "/home/onyxia/work/schools.ipynb",
   "parameters": {},
   "start_time": "2022-11-17T10:55:49.579726",
   "version": "2.3.4"
  }
 },
 "nbformat": 4,
 "nbformat_minor": 5
}
