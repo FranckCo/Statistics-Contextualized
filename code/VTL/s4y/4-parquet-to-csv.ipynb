{
 "cells": [
  {
   "cell_type": "markdown",
   "id": "f924c15c-550f-445b-b8ed-7bd3c3416b2d",
   "metadata": {},
   "source": [
    "# Convert parquet to csv"
   ]
  },
  {
   "cell_type": "markdown",
   "id": "a3fa90d5-60fa-4a9f-a9bd-264f981ae807",
   "metadata": {},
   "source": [
    "## Open Spark session"
   ]
  },
  {
   "cell_type": "code",
   "execution_count": null,
   "id": "b39c0e08-c2b0-41f7-80a9-b0a22f41c793",
   "metadata": {},
   "outputs": [],
   "source": [
    "import os\n",
    "from pyspark.sql import SparkSession\n",
    "\n",
    "spark = (SparkSession\n",
    "         .builder\n",
    "         .master(\"local\")\n",
    "         .getOrCreate()\n",
    "        )"
   ]
  },
  {
   "cell_type": "markdown",
   "id": "5c1075be-0625-403a-a33b-61b2827eb0f7",
   "metadata": {},
   "source": [
    "## Load parquet dataset"
   ]
  },
  {
   "cell_type": "code",
   "execution_count": null,
   "id": "4e14e69f-0814-45f1-ab28-68b9517e819c",
   "metadata": {},
   "outputs": [],
   "source": [
    "spark_df = spark.read.parquet(\"s3a://projet-vtl/interstat/work/school_students/data\")"
   ]
  },
  {
   "cell_type": "markdown",
   "id": "42b49ac6-b6ab-4c2d-9377-4cbc4965d3aa",
   "metadata": {},
   "source": [
    "## Convert Spark dataset to Panda dataset"
   ]
  },
  {
   "cell_type": "code",
   "execution_count": null,
   "id": "2bbc30a7-7ee6-482c-9630-ce3cc45c206f",
   "metadata": {},
   "outputs": [],
   "source": [
    "pandas_df = spark_df.toPandas()"
   ]
  },
  {
   "cell_type": "markdown",
   "id": "8748e572-4c9f-42de-b1b5-297e5e703d06",
   "metadata": {},
   "source": [
    "## Write Panda dataset in CSV"
   ]
  },
  {
   "cell_type": "code",
   "execution_count": null,
   "id": "7aec1ed6-4841-4bc5-b255-aa34e7f7879b",
   "metadata": {},
   "outputs": [],
   "source": [
    "pandas_df.to_csv('s3a://projet-vtl/interstat/output/output.csv', index=False)"
   ]
  }
 ],
 "metadata": {
  "kernelspec": {
   "display_name": "Python 3 (ipykernel)",
   "language": "python",
   "name": "python3"
  },
  "language_info": {
   "codemirror_mode": {
    "name": "ipython",
    "version": 3
   },
   "file_extension": ".py",
   "mimetype": "text/x-python",
   "name": "python",
   "nbconvert_exporter": "python",
   "pygments_lexer": "ipython3",
   "version": "3.9.0"
  }
 },
 "nbformat": 4,
 "nbformat_minor": 5
}
