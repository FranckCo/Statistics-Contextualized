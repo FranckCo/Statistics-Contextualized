{
 "cells": [
  {
   "cell_type": "markdown",
   "id": "89d67dd4-5c5d-41df-ab44-e326c552ccc4",
   "metadata": {},
   "source": [
    "# Schools"
   ]
  },
  {
   "cell_type": "markdown",
   "id": "aaed5a3c-0d78-4212-9c4a-b77338f46a41",
   "metadata": {},
   "source": [
    "## Load datasets"
   ]
  },
  {
   "cell_type": "code",
   "execution_count": null,
   "id": "d9220f3c-5314-4f5f-b5f4-bf7cef3eddae",
   "metadata": {},
   "outputs": [],
   "source": [
    "school_registry := loadS3(\"s3a://projet-vtl/interstat/work/schools/school_registry\");\n",
    "showS := showMetadata(school_registry);"
   ]
  },
  {
   "cell_type": "code",
   "execution_count": null,
   "id": "56fa7271-ef49-49c5-867c-f8802c17011f",
   "metadata": {},
   "outputs": [],
   "source": [
    "nature_mapping := loadS3(\"s3a://projet-vtl/interstat/work/schools/nature_mapping\");\n",
    "showN := showMetadata(nature_mapping);"
   ]
  },
  {
   "cell_type": "markdown",
   "id": "da109718-5197-4361-94e3-5482b8e3e58c",
   "metadata": {},
   "source": [
    "## VTL script"
   ]
  },
  {
   "cell_type": "markdown",
   "id": "0652e824-7b7a-4589-ad54-f9d147e8b1fb",
   "metadata": {},
   "source": [
    "### Update Identifiers"
   ]
  },
  {
   "cell_type": "code",
   "execution_count": null,
   "id": "c4f548de-6bc4-4021-9558-3ec8f5c256fa",
   "metadata": {},
   "outputs": [],
   "source": [
    "school_registry := school_registry[calc measure school_id := school_id, identifier code_nature := code_nature];\n",
    "showS := showMetadata(school_registry);"
   ]
  },
  {
   "cell_type": "markdown",
   "id": "c04567a1-e1c8-487c-9de3-56a3a0e12aba",
   "metadata": {},
   "source": [
    "### Join tables"
   ]
  },
  {
   "cell_type": "code",
   "execution_count": null,
   "id": "02ce9f84-4990-4c6f-b40f-080d9d5e4eb0",
   "metadata": {},
   "outputs": [],
   "source": [
    "work := left_join(school_registry, nature_mapping);\n",
    "showW := showMetadata(work);"
   ]
  },
  {
   "cell_type": "markdown",
   "id": "b7c939b4-d2df-4b0b-9b48-0c38761614c1",
   "metadata": {},
   "source": [
    "### Update Identifiers"
   ]
  },
  {
   "cell_type": "code",
   "execution_count": null,
   "id": "587947d0-d865-4fed-a0a8-9ca43ced416f",
   "metadata": {},
   "outputs": [],
   "source": [
    "work := work[calc identifier school_id := school_id, measure code_nature := code_nature];\n",
    "showS := showMetadata(work);"
   ]
  },
  {
   "cell_type": "markdown",
   "id": "3f4b48c6-5742-41ed-833f-d836d17e06a3",
   "metadata": {},
   "source": [
    "## Write dataset"
   ]
  },
  {
   "cell_type": "code",
   "execution_count": null,
   "id": "ae7a4604-536d-4499-9fcf-91698082c22d",
   "metadata": {},
   "outputs": [],
   "source": [
    "write := writeS3(\"s3a://projet-vtl/interstat/work/schools/schools\", work);\n",
    "status := show(write);"
   ]
  }
 ],
 "metadata": {
  "kernelspec": {
   "display_name": "Trevas VTL",
   "language": "vtl",
   "name": "trevas"
  },
  "language_info": {
   "file_extension": ".txt",
   "mimetype": "text/plain",
   "name": "Trevas VTL engine"
  }
 },
 "nbformat": 4,
 "nbformat_minor": 5
}
