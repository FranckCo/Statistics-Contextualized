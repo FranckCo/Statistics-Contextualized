{
	"cells": [
		{
			"cell_type": "code",
			"execution_count": null,
			"id": "e9a1680c-986c-4bfe-a655-78120eca6357",
			"metadata": {},
			"outputs": [],
			"source": [
				"!pip install minio"
			]
		},
		{
			"cell_type": "code",
			"execution_count": null,
			"id": "480db10e-53ce-435a-b824-3666dae23ac3",
			"metadata": {},
			"outputs": [],
			"source": [
				"from minio import Minio\n",
				"import os\n",
				"\n",
				"client = Minio(\"minio.lab.sspcloud.fr\", \n",
				"               access_key = os.environ[\"AWS_ACCESS_KEY_ID\"],\n",
				"               secret_key = os.environ[\"AWS_SECRET_ACCESS_KEY\"],\n",
				"               session_token = os.environ[\"AWS_SESSION_TOKEN\"]\n",
				"              )\n",
				"\n",
				"buckets = client.list_buckets()\n",
				"for bucket in buckets:\n",
				"    print(bucket.name, bucket.creation_date)"
			]
		},
		{
			"cell_type": "code",
			"execution_count": 27,
			"id": "3d7df753-7a09-4621-bf95-6f73dc1ffb33",
			"metadata": {},
			"outputs": [],
			"source": [
				"from minio.deleteobjects import DeleteObject\n",
				"\n",
				"delete_object_list = map(\n",
				"    lambda x: DeleteObject(x.object_name),\n",
				"    client.list_objects(\"projet-vtl\", \"interstat/work/\", recursive=True),\n",
				")\n",
				"errors = client.remove_objects(\"projet-vtl\", delete_object_list)\n",
				"for error in errors:\n",
				"    print(\"error occured when deleting object\", error)"
			]
		}
	],
	"metadata": {
		"kernelspec": {
			"display_name": "Python 3 (ipykernel)",
			"language": "python",
			"name": "python3"
		},
		"language_info": {
			"codemirror_mode": {
				"name": "ipython",
				"version": 3
			},
			"file_extension": ".py",
			"mimetype": "text/x-python",
			"name": "python",
			"nbconvert_exporter": "python",
			"pygments_lexer": "ipython3",
			"version": "3.9.0"
		}
	},
	"nbformat": 4,
	"nbformat_minor": 5
}
