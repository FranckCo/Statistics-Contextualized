{
	"cells": [
		{
			"cell_type": "markdown",
			"id": "45908f85-6122-473b-8057-440490e9720a",
			"metadata": {
				"papermill": {
					"duration": 0.006117,
					"end_time": "2022-11-17T12:44:17.916710",
					"exception": false,
					"start_time": "2022-11-17T12:44:17.910593",
					"status": "completed"
				},
				"tags": []
			},
			"source": [
				"# Students - General high school"
			]
		},
		{
			"cell_type": "markdown",
			"id": "ac9f23f7-1744-4a4d-af0f-a9cc20328e0e",
			"metadata": {
				"papermill": {
					"duration": 0.002843,
					"end_time": "2022-11-17T12:44:17.923018",
					"exception": false,
					"start_time": "2022-11-17T12:44:17.920175",
					"status": "completed"
				},
				"tags": []
			},
			"source": [
				"## Load dataset"
			]
		},
		{
			"cell_type": "code",
			"execution_count": null,
			"id": "f006320c-7d22-4fad-a879-ddbd12913b37",
			"metadata": {
				"papermill": {
					"duration": 8.622449,
					"end_time": "2022-11-17T12:44:26.548210",
					"exception": false,
					"start_time": "2022-11-17T12:44:17.925761",
					"status": "completed"
				},
				"tags": [],
				"vscode": {
					"languageId": "trevas vtl engine"
				}
			},
			"outputs": [],
			"source": [
				"input_table := loadCSV(\"s3a://projet-vtl/interstat/input/fr-en-lycee_gt-effectifs-niveau-sexe-lv\");\n",
				"showM := showMetadata(input_table);"
			]
		},
		{
			"cell_type": "markdown",
			"id": "5323a75a-7ba6-4ecf-a733-5c6b23d8e3b1",
			"metadata": {
				"papermill": {
					"duration": 0.005699,
					"end_time": "2022-11-17T12:44:26.560120",
					"exception": false,
					"start_time": "2022-11-17T12:44:26.554421",
					"status": "completed"
				},
				"tags": []
			},
			"source": [
				"## VTL script"
			]
		},
		{
			"cell_type": "markdown",
			"id": "a8c466b4-cabb-4552-b2cc-921b6b75e08b",
			"metadata": {
				"papermill": {
					"duration": 0.005551,
					"end_time": "2022-11-17T12:44:26.571147",
					"exception": false,
					"start_time": "2022-11-17T12:44:26.565596",
					"status": "completed"
				},
				"tags": []
			},
			"source": [
				"### Rename variables"
			]
		},
		{
			"cell_type": "code",
			"execution_count": null,
			"id": "66b40c34-6405-4b60-8f79-584a4945abc5",
			"metadata": {
				"papermill": {
					"duration": 0.058288,
					"end_time": "2022-11-17T12:44:26.634830",
					"exception": false,
					"start_time": "2022-11-17T12:44:26.576542",
					"status": "completed"
				},
				"tags": [],
				"vscode": {
					"languageId": "trevas vtl engine"
				}
			},
			"outputs": [],
			"source": [
				"work := input_table[rename rentree_scolaire to year, numero_du_lycee to school_id, nombre_d_eleves to student_number];\n",
				"showM := showMetadata(work);"
			]
		},
		{
			"attachments": {},
			"cell_type": "markdown",
			"id": "439fca9a-b8ba-4828-aca2-f0ee48814519",
			"metadata": {
				"papermill": {
					"duration": 0.004041,
					"end_time": "2022-11-17T12:44:26.643455",
					"exception": false,
					"start_time": "2022-11-17T12:44:26.639414",
					"status": "completed"
				},
				"tags": []
			},
			"source": [
				"### Define column roles"
			]
		},
		{
			"cell_type": "code",
			"execution_count": null,
			"id": "667cc5e3-e05e-4719-861f-51425b89bd89",
			"metadata": {
				"papermill": {
					"duration": 0.18232,
					"end_time": "2022-11-17T12:44:26.829341",
					"exception": false,
					"start_time": "2022-11-17T12:44:26.647021",
					"status": "completed"
				},
				"tags": [],
				"vscode": {
					"languageId": "trevas vtl engine"
				}
			},
			"outputs": [],
			"source": [
				"work := work[calc identifier year := year, identifier school_id := school_id];\n",
				"showM := showMetadata(work);"
			]
		},
		{
			"cell_type": "markdown",
			"id": "a581e435-6893-40ce-9db7-1941d7b9b683",
			"metadata": {
				"papermill": {
					"duration": 0.004041,
					"end_time": "2022-11-17T12:44:26.643455",
					"exception": false,
					"start_time": "2022-11-17T12:44:26.639414",
					"status": "completed"
				},
				"tags": []
			},
			"source": [
				"### Fix column types"
			]
		},
		{
			"cell_type": "code",
			"execution_count": null,
			"id": "b138bd43-7b71-4d73-8f88-a94a5db5f4da",
			"metadata": {
				"papermill": {
					"duration": 0.18232,
					"end_time": "2022-11-17T12:44:26.829341",
					"exception": false,
					"start_time": "2022-11-17T12:44:26.647021",
					"status": "completed"
				},
				"tags": [],
				"vscode": {
					"languageId": "trevas vtl engine"
				}
			},
			"outputs": [],
			"source": [
				"work := work[calc student_number := cast(student_number, integer)];\n",
				"showM := showMetadata(work);"
			]
		},
		{
			"cell_type": "markdown",
			"id": "6262e2ab-d71a-4baf-99b3-637b00e7312a",
			"metadata": {
				"papermill": {
					"duration": 0.00418,
					"end_time": "2022-11-17T12:44:26.841731",
					"exception": false,
					"start_time": "2022-11-17T12:44:26.837551",
					"status": "completed"
				},
				"tags": []
			},
			"source": [
				"## Write dataset"
			]
		},
		{
			"cell_type": "code",
			"execution_count": null,
			"id": "d606104d-fc1f-4364-a167-fd7dc36aebe6",
			"metadata": {
				"papermill": {
					"duration": 5.528442,
					"end_time": "2022-11-17T12:44:32.374547",
					"exception": false,
					"start_time": "2022-11-17T12:44:26.846105",
					"status": "completed"
				},
				"tags": [],
				"vscode": {
					"languageId": "trevas vtl engine"
				}
			},
			"outputs": [],
			"source": [
				"write := writeParquet(\"s3a://projet-vtl/interstat/work/students/general_high_school\", work);\n",
				"status := show(write);"
			]
		}
	],
	"metadata": {
		"kernelspec": {
			"display_name": "Trevas VTL",
			"language": "vtl",
			"name": "trevas"
		},
		"language_info": {
			"file_extension": ".txt",
			"mimetype": "text/plain",
			"name": "Trevas VTL engine"
		},
		"papermill": {
			"default_parameters": {},
			"duration": 18.569834,
			"end_time": "2022-11-17T12:44:32.640670",
			"environment_variables": {},
			"exception": null,
			"input_path": "/home/onyxia/work/students/fr-en-lycee_gt-effectifs-niveau-sexe-lv.ipynb",
			"output_path": "/home/onyxia/work/students/fr-en-lycee_gt-effectifs-niveau-sexe-lv.ipynb",
			"parameters": {},
			"start_time": "2022-11-17T12:44:14.070836",
			"version": "2.3.4"
		}
	},
	"nbformat": 4,
	"nbformat_minor": 5
}
