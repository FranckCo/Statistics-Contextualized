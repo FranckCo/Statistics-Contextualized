{
	"cells": [
		{
			"cell_type": "markdown",
			"id": "ffb55dbb-0fff-4c7a-952e-4752be06ee76",
			"metadata": {},
			"source": [
				"# Scool students"
			]
		},
		{
			"cell_type": "markdown",
			"id": "6154e9f1-c4fc-4102-b431-4743bed2e6d6",
			"metadata": {},
			"source": [
				"## Load datasets"
			]
		},
		{
			"cell_type": "code",
			"execution_count": null,
			"id": "523f23ee-1990-4ad1-abc9-dc131e35ac15",
			"metadata": {
				"vscode": {
					"languageId": "trevas vtl engine"
				}
			},
			"outputs": [],
			"source": [
				"schools := loadParquet(\"s3a://projet-vtl/interstat/work/schools/schools\");\n",
				"show := showMetadata(schools);"
			]
		},
		{
			"cell_type": "code",
			"execution_count": null,
			"id": "1bf8ccf2-17d3-47fd-aea8-86fa82df23e4",
			"metadata": {
				"vscode": {
					"languageId": "trevas vtl engine"
				}
			},
			"outputs": [],
			"source": [
				"students := loadParquet(\"s3a://projet-vtl/interstat/work/students/students\");\n",
				"show := showMetadata(students);"
			]
		},
		{
			"cell_type": "markdown",
			"id": "336a63af-e69e-4f34-8cce-89d546fe7da6",
			"metadata": {},
			"source": [
				"## VTL Script"
			]
		},
		{
			"cell_type": "markdown",
			"id": "9ae7ae67-7675-4e09-9e97-388a79c500ac",
			"metadata": {},
			"source": [
				"### Update `students` dataset metadata"
			]
		},
		{
			"cell_type": "code",
			"execution_count": null,
			"id": "c1bdb2f6-a9b5-42c6-b779-415dce82ffb4",
			"metadata": {
				"vscode": {
					"languageId": "trevas vtl engine"
				}
			},
			"outputs": [],
			"source": [
				"students := students [calc measure year := year];\n",
				"show := showMetadata(students);"
			]
		},
		{
			"cell_type": "markdown",
			"id": "b68dd1d9-2eaf-47ac-bc83-a114a314ae96",
			"metadata": {},
			"source": [
				"### Join schools & students"
			]
		},
		{
			"cell_type": "code",
			"execution_count": 7,
			"id": "fc0e3234-6629-461d-88f0-329306f9981e",
			"metadata": {
				"vscode": {
					"languageId": "trevas vtl engine"
				}
			},
			"outputs": [
				{
					"data": {},
					"execution_count": 8,
					"metadata": {},
					"output_type": "execute_result"
				}
			],
			"source": [
				"work := left_join(schools, students);\n",
				"show := showMetadata(work);"
			]
		},
		{
			"cell_type": "markdown",
			"id": "d04f1216-e0d6-49a7-86b0-388a010ab286",
			"metadata": {},
			"source": [
				"## Write dataset"
			]
		},
		{
			"cell_type": "code",
			"execution_count": null,
			"id": "50674aa2-41a1-4dc7-b600-1e40a33e839a",
			"metadata": {
				"vscode": {
					"languageId": "trevas vtl engine"
				}
			},
			"outputs": [],
			"source": [
				"write := writeParquet(\"s3a://projet-vtl/interstat/work/school_students\", work);\n",
				"status := show(write);"
			]
		}
	],
	"metadata": {
		"kernelspec": {
			"display_name": "Trevas VTL",
			"language": "vtl",
			"name": "trevas"
		},
		"language_info": {
			"file_extension": ".txt",
			"mimetype": "text/plain",
			"name": "Trevas VTL engine"
		}
	},
	"nbformat": 4,
	"nbformat_minor": 5
}
