{
	"cells": [
		{
			"cell_type": "markdown",
			"id": "bb0a32e8-479d-47a9-bf01-eb885a852491",
			"metadata": {
				"papermill": {
					"duration": 0.002885,
					"end_time": "2022-11-17T10:56:13.696267",
					"exception": false,
					"start_time": "2022-11-17T10:56:13.693382",
					"status": "completed"
				},
				"tags": []
			},
			"source": [
				"# School registry mapping"
			]
		},
		{
			"cell_type": "markdown",
			"id": "3f06950c-f937-4bae-a179-365c5e03b078",
			"metadata": {
				"papermill": {
					"duration": 0.003288,
					"end_time": "2022-11-17T10:56:13.702670",
					"exception": false,
					"start_time": "2022-11-17T10:56:13.699382",
					"status": "completed"
				},
				"tags": []
			},
			"source": [
				"## Load dataset"
			]
		},
		{
			"cell_type": "code",
			"execution_count": null,
			"id": "340ad578-d877-49d2-b446-04467b156732",
			"metadata": {
				"papermill": {
					"duration": 8.096034,
					"end_time": "2022-11-17T10:56:21.801957",
					"exception": false,
					"start_time": "2022-11-17T10:56:13.705923",
					"status": "completed"
				},
				"tags": [],
				"vscode": {
					"languageId": "trevas vtl engine"
				}
			},
			"outputs": [],
			"source": [
				"input_table := loadS3(\"s3a://projet-vtl/interstat/input/school-registry-mapping-nature-isced\");\n",
				"showM := showMetadata(input_table);"
			]
		},
		{
			"cell_type": "markdown",
			"id": "949ca21c-3e39-428c-b3e8-22743605af0d",
			"metadata": {
				"papermill": {
					"duration": 0.004163,
					"end_time": "2022-11-17T10:56:21.812074",
					"exception": false,
					"start_time": "2022-11-17T10:56:21.807911",
					"status": "completed"
				},
				"tags": []
			},
			"source": [
				"## VTL script"
			]
		},
		{
			"cell_type": "code",
			"execution_count": null,
			"id": "2397fa7b-1d0b-4ab6-881b-14ffeb393a7b",
			"metadata": {
				"papermill": {
					"duration": 0.055739,
					"end_time": "2022-11-17T10:56:21.870866",
					"exception": false,
					"start_time": "2022-11-17T10:56:21.815127",
					"status": "completed"
				},
				"tags": [],
				"vscode": {
					"languageId": "trevas vtl engine"
				}
			},
			"outputs": [],
			"source": [
				"work := input_table [drop nature]\n",
				"                    [calc identifier code_nature := code_nature];\n",
				"showM := showMetadata(work);"
			]
		},
		{
			"cell_type": "markdown",
			"id": "b6b8aef2-3978-4f7f-a591-f386582ee613",
			"metadata": {
				"papermill": {
					"duration": 0.003663,
					"end_time": "2022-11-17T10:56:21.879949",
					"exception": false,
					"start_time": "2022-11-17T10:56:21.876286",
					"status": "completed"
				},
				"tags": []
			},
			"source": [
				"## Write dataset"
			]
		},
		{
			"cell_type": "code",
			"execution_count": null,
			"id": "455dd357-6969-40b1-bb2e-5ded80fe41c6",
			"metadata": {
				"papermill": {
					"duration": 5.220697,
					"end_time": "2022-11-17T10:56:27.104027",
					"exception": false,
					"start_time": "2022-11-17T10:56:21.883330",
					"status": "completed"
				},
				"tags": [],
				"vscode": {
					"languageId": "trevas vtl engine"
				}
			},
			"outputs": [],
			"source": [
				"write := writeS3(\"s3a://projet-vtl/interstat/work/schools/nature_mapping\", work);\n",
				"status := show(write);"
			]
		}
	],
	"metadata": {
		"kernelspec": {
			"display_name": "Trevas VTL",
			"language": "vtl",
			"name": "trevas"
		},
		"language_info": {
			"file_extension": ".txt",
			"mimetype": "text/plain",
			"name": "Trevas VTL engine"
		},
		"papermill": {
			"default_parameters": {},
			"duration": 17.502819,
			"end_time": "2022-11-17T10:56:27.373655",
			"environment_variables": {},
			"exception": null,
			"input_path": "/home/onyxia/work/school-registry-mapping-nature-isced.ipynb",
			"output_path": "/home/onyxia/work/school-registry-mapping-nature-isced.ipynb",
			"parameters": {},
			"start_time": "2022-11-17T10:56:09.870836",
			"version": "2.3.4"
		}
	},
	"nbformat": 4,
	"nbformat_minor": 5
}
