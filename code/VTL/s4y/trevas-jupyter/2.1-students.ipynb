{
	"cells": [
		{
			"cell_type": "markdown",
			"id": "62269c93-fc4a-4a89-b9f6-926b96235749",
			"metadata": {},
			"source": [
				"# Students - Merge tables"
			]
		},
		{
			"cell_type": "markdown",
			"id": "e17fdb0c-c647-4567-8f0a-5660052d7a34",
			"metadata": {},
			"source": [
				"## Load datasets"
			]
		},
		{
			"cell_type": "code",
			"execution_count": null,
			"id": "66e52c6d-ce96-48a9-ad82-0e0755a0693e",
			"metadata": {
				"vscode": {
					"languageId": "trevas vtl engine"
				}
			},
			"outputs": [],
			"source": [
				"middle_school := loadS3(\"s3a://projet-vtl/interstat/work/students/middle_school\");\n",
				"school := loadS3(\"s3a://projet-vtl/interstat/work/students/school\");\n",
				"general_high_school := loadS3(\"s3a://projet-vtl/interstat/work/students/general_high_school\");\n",
				"professional_high_school := loadS3(\"s3a://projet-vtl/interstat/work/students/professional_high_school\");\n",
				"showM := showMetadata(professional_high_school);"
			]
		},
		{
			"cell_type": "markdown",
			"id": "0a008cc5-f1c5-4ea2-9fed-f056cc3ea753",
			"metadata": {},
			"source": [
				"## VTL Script"
			]
		},
		{
			"cell_type": "markdown",
			"id": "0f189abb-8eaf-4c7d-8485-49401afd5345",
			"metadata": {},
			"source": [
				"### Concat school datasets"
			]
		},
		{
			"cell_type": "code",
			"execution_count": null,
			"id": "e5a65d3a-be93-4c81-a3a4-94f43af11607",
			"metadata": {
				"vscode": {
					"languageId": "trevas vtl engine"
				}
			},
			"outputs": [],
			"source": [
				"work := union(middle_school, school, general_high_school, professional_high_school);\n",
				"showM := showMetadata(work);"
			]
		},
		{
			"cell_type": "markdown",
			"id": "ed57502b-4422-479d-987a-769a9cd1e24f",
			"metadata": {},
			"source": [
				"## Write dataset"
			]
		},
		{
			"cell_type": "code",
			"execution_count": null,
			"id": "05c84aff-fc48-48ed-8203-ed0b1fe679b2",
			"metadata": {
				"vscode": {
					"languageId": "trevas vtl engine"
				}
			},
			"outputs": [],
			"source": [
				"write := writeS3(\"s3a://projet-vtl/interstat/work/students/students\", work);\n",
				"status := show(write);"
			]
		}
	],
	"metadata": {
		"kernelspec": {
			"display_name": "Trevas VTL",
			"language": "vtl",
			"name": "trevas"
		},
		"language_info": {
			"file_extension": ".txt",
			"mimetype": "text/plain",
			"name": "Trevas VTL engine"
		}
	},
	"nbformat": 4,
	"nbformat_minor": 5
}
