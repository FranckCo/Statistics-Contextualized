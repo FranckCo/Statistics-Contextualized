{
 "cells": [
  {
   "cell_type": "markdown",
   "id": "45908f85-6122-473b-8057-440490e9720a",
   "metadata": {
    "papermill": {
     "duration": 0.005657,
     "end_time": "2022-11-17T12:43:57.841263",
     "exception": false,
     "start_time": "2022-11-17T12:43:57.835606",
     "status": "completed"
    },
    "tags": []
   },
   "source": [
    "# Students - School"
   ]
  },
  {
   "cell_type": "markdown",
   "id": "a18c7219-4879-40a1-b9fe-f2e737668fca",
   "metadata": {
    "papermill": {
     "duration": 0.003151,
     "end_time": "2022-11-17T12:43:57.848879",
     "exception": false,
     "start_time": "2022-11-17T12:43:57.845728",
     "status": "completed"
    },
    "tags": []
   },
   "source": [
    "## Load dataset"
   ]
  },
  {
   "cell_type": "code",
   "execution_count": null,
   "id": "f006320c-7d22-4fad-a879-ddbd12913b37",
   "metadata": {
    "papermill": {
     "duration": 8.911007,
     "end_time": "2022-11-17T12:44:06.762968",
     "exception": false,
     "start_time": "2022-11-17T12:43:57.851961",
     "status": "completed"
    },
    "tags": [],
    "vscode": {
     "languageId": "trevas vtl engine"
    }
   },
   "outputs": [],
   "source": [
    "input_table := loadS3(\"s3a://projet-vtl/migration-v2/interstat/input/fr-en-ecoles-effectifs-nb_classes\");\n",
    "showM := showMetadata(input_table);"
   ]
  },
  {
   "cell_type": "markdown",
   "id": "5323a75a-7ba6-4ecf-a733-5c6b23d8e3b1",
   "metadata": {
    "papermill": {
     "duration": 0.006161,
     "end_time": "2022-11-17T12:44:06.776225",
     "exception": false,
     "start_time": "2022-11-17T12:44:06.770064",
     "status": "completed"
    },
    "tags": []
   },
   "source": [
    "# VTL script"
   ]
  },
  {
   "attachments": {},
   "cell_type": "markdown",
   "id": "a8c466b4-cabb-4552-b2cc-921b6b75e08b",
   "metadata": {
    "papermill": {
     "duration": 0.003693,
     "end_time": "2022-11-17T12:44:06.785016",
     "exception": false,
     "start_time": "2022-11-17T12:44:06.781323",
     "status": "completed"
    },
    "tags": []
   },
   "source": [
    "### Rename variables"
   ]
  },
  {
   "cell_type": "code",
   "execution_count": null,
   "id": "66b40c34-6405-4b60-8f79-584a4945abc5",
   "metadata": {
    "papermill": {
     "duration": 0.061369,
     "end_time": "2022-11-17T12:44:06.850384",
     "exception": false,
     "start_time": "2022-11-17T12:44:06.789015",
     "status": "completed"
    },
    "tags": [],
    "vscode": {
     "languageId": "trevas vtl engine"
    }
   },
   "outputs": [],
   "source": [
    "work := input_table[rename rentree_scolaire to year, numero_de_l_ecole to school_id, nombre_total_d_eleves to student_number];\n",
    "showM := showMetadata(work);"
   ]
  },
  {
   "attachments": {},
   "cell_type": "markdown",
   "id": "439fca9a-b8ba-4828-aca2-f0ee48814519",
   "metadata": {
    "papermill": {
     "duration": 0.006163,
     "end_time": "2022-11-17T12:44:06.862856",
     "exception": false,
     "start_time": "2022-11-17T12:44:06.856693",
     "status": "completed"
    },
    "tags": []
   },
   "source": [
    "### Define column roles"
   ]
  },
  {
   "cell_type": "code",
   "execution_count": null,
   "id": "28596c24-4205-43ad-b30e-0b2f3d8a0323",
   "metadata": {
    "papermill": {
     "duration": 0.218343,
     "end_time": "2022-11-17T12:44:07.087162",
     "exception": false,
     "start_time": "2022-11-17T12:44:06.868819",
     "status": "completed"
    },
    "tags": [],
    "vscode": {
     "languageId": "trevas vtl engine"
    }
   },
   "outputs": [],
   "source": [
    "work := work[calc identifier year := year, identifier school_id := school_id];\n",
    "showM := showMetadata(work);"
   ]
  },
  {
   "attachments": {},
   "cell_type": "markdown",
   "id": "93547787-b793-4aae-9a40-6eace14728be",
   "metadata": {
    "papermill": {
     "duration": 0.006163,
     "end_time": "2022-11-17T12:44:06.862856",
     "exception": false,
     "start_time": "2022-11-17T12:44:06.856693",
     "status": "completed"
    },
    "tags": []
   },
   "source": [
    "### Update column types"
   ]
  },
  {
   "cell_type": "code",
   "execution_count": null,
   "id": "667cc5e3-e05e-4719-861f-51425b89bd89",
   "metadata": {
    "papermill": {
     "duration": 0.218343,
     "end_time": "2022-11-17T12:44:07.087162",
     "exception": false,
     "start_time": "2022-11-17T12:44:06.868819",
     "status": "completed"
    },
    "tags": [],
    "vscode": {
     "languageId": "trevas vtl engine"
    }
   },
   "outputs": [],
   "source": [
    "work := work[calc student_number := cast(student_number, integer)];\n",
    "showM := showMetadata(work);"
   ]
  },
  {
   "cell_type": "markdown",
   "id": "6262e2ab-d71a-4baf-99b3-637b00e7312a",
   "metadata": {
    "papermill": {
     "duration": 0.004749,
     "end_time": "2022-11-17T12:44:07.098785",
     "exception": false,
     "start_time": "2022-11-17T12:44:07.094036",
     "status": "completed"
    },
    "tags": []
   },
   "source": [
    "# Write dataset"
   ]
  },
  {
   "cell_type": "code",
   "execution_count": null,
   "id": "d606104d-fc1f-4364-a167-fd7dc36aebe6",
   "metadata": {
    "papermill": {
     "duration": 6.579571,
     "end_time": "2022-11-17T12:44:13.682466",
     "exception": false,
     "start_time": "2022-11-17T12:44:07.102895",
     "status": "completed"
    },
    "tags": [],
    "vscode": {
     "languageId": "trevas vtl engine"
    }
   },
   "outputs": [],
   "source": [
    "write := writeS3(\"s3a://projet-vtl/migration-v2/interstat/work/students/school\", work);\n",
    "status := show(write);"
   ]
  }
 ],
 "metadata": {
  "kernelspec": {
   "display_name": "Trevas VTL",
   "language": "vtl",
   "name": "trevas"
  },
  "language_info": {
   "file_extension": ".txt",
   "mimetype": "text/plain",
   "name": "Trevas VTL engine"
  },
  "papermill": {
   "default_parameters": {},
   "duration": 20.158017,
   "end_time": "2022-11-17T12:44:14.052474",
   "environment_variables": {},
   "exception": null,
   "input_path": "/home/onyxia/work/students/fr-en-ecoles-effectifs-nb_classes.ipynb",
   "output_path": "/home/onyxia/work/students/fr-en-ecoles-effectifs-nb_classes.ipynb",
   "parameters": {},
   "start_time": "2022-11-17T12:43:53.894457",
   "version": "2.3.4"
  }
 },
 "nbformat": 4,
 "nbformat_minor": 5
}
