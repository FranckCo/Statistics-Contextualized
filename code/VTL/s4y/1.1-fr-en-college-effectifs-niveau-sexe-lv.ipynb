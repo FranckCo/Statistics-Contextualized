{
 "cells": [
  {
   "cell_type": "markdown",
   "id": "45908f85-6122-473b-8057-440490e9720a",
   "metadata": {
    "papermill": {
     "duration": 0.006102,
     "end_time": "2022-11-17T12:43:39.506891",
     "exception": false,
     "start_time": "2022-11-17T12:43:39.500789",
     "status": "completed"
    },
    "tags": []
   },
   "source": [
    "# Students - Middle school"
   ]
  },
  {
   "cell_type": "markdown",
   "id": "ac9f23f7-1744-4a4d-af0f-a9cc20328e0e",
   "metadata": {
    "papermill": {
     "duration": 0.006937,
     "end_time": "2022-11-17T12:43:39.517494",
     "exception": false,
     "start_time": "2022-11-17T12:43:39.510557",
     "status": "completed"
    },
    "tags": []
   },
   "source": [
    "## Load dataset"
   ]
  },
  {
   "cell_type": "code",
   "execution_count": null,
   "id": "f006320c-7d22-4fad-a879-ddbd12913b37",
   "metadata": {
    "papermill": {
     "duration": 8.164357,
     "end_time": "2022-11-17T12:43:47.684909",
     "exception": false,
     "start_time": "2022-11-17T12:43:39.520552",
     "status": "completed"
    },
    "tags": []
   },
   "outputs": [],
   "source": [
    "input_table := loadS3(\"s3a://projet-vtl/interstat/input/fr-en-college-effectifs-niveau-sexe-lv\");\n",
    "showM := showMetadata(input_table);"
   ]
  },
  {
   "cell_type": "markdown",
   "id": "5323a75a-7ba6-4ecf-a733-5c6b23d8e3b1",
   "metadata": {
    "papermill": {
     "duration": 0.003941,
     "end_time": "2022-11-17T12:43:47.692681",
     "exception": false,
     "start_time": "2022-11-17T12:43:47.688740",
     "status": "completed"
    },
    "tags": []
   },
   "source": [
    "## VTL script"
   ]
  },
  {
   "cell_type": "markdown",
   "id": "a8c466b4-cabb-4552-b2cc-921b6b75e08b",
   "metadata": {
    "papermill": {
     "duration": 0.003391,
     "end_time": "2022-11-17T12:43:47.699638",
     "exception": false,
     "start_time": "2022-11-17T12:43:47.696247",
     "status": "completed"
    },
    "tags": []
   },
   "source": [
    "### Rename variables"
   ]
  },
  {
   "cell_type": "code",
   "execution_count": null,
   "id": "66b40c34-6405-4b60-8f79-584a4945abc5",
   "metadata": {
    "papermill": {
     "duration": 0.068263,
     "end_time": "2022-11-17T12:43:47.771159",
     "exception": false,
     "start_time": "2022-11-17T12:43:47.702896",
     "status": "completed"
    },
    "tags": []
   },
   "outputs": [],
   "source": [
    "work := input_table[rename rentree_scolaire to year, numero_du_college to school_id, nombre_d_eleves_total to student_number];\n",
    "showM := showMetadata(work);"
   ]
  },
  {
   "cell_type": "markdown",
   "id": "439fca9a-b8ba-4828-aca2-f0ee48814519",
   "metadata": {
    "papermill": {
     "duration": 0.004777,
     "end_time": "2022-11-17T12:43:47.781853",
     "exception": false,
     "start_time": "2022-11-17T12:43:47.777076",
     "status": "completed"
    },
    "tags": []
   },
   "source": [
    "### Fix column types"
   ]
  },
  {
   "cell_type": "code",
   "execution_count": null,
   "id": "667cc5e3-e05e-4719-861f-51425b89bd89",
   "metadata": {
    "papermill": {
     "duration": 0.171093,
     "end_time": "2022-11-17T12:43:47.956337",
     "exception": false,
     "start_time": "2022-11-17T12:43:47.785244",
     "status": "completed"
    },
    "tags": []
   },
   "outputs": [],
   "source": [
    "work := work[calc student_number := cast(student_number, integer)];\n",
    "showM := showMetadata(work);"
   ]
  },
  {
   "cell_type": "markdown",
   "id": "6262e2ab-d71a-4baf-99b3-637b00e7312a",
   "metadata": {
    "papermill": {
     "duration": 0.005916,
     "end_time": "2022-11-17T12:43:47.968590",
     "exception": false,
     "start_time": "2022-11-17T12:43:47.962674",
     "status": "completed"
    },
    "tags": []
   },
   "source": [
    "## Write dataset"
   ]
  },
  {
   "cell_type": "code",
   "execution_count": null,
   "id": "d606104d-fc1f-4364-a167-fd7dc36aebe6",
   "metadata": {
    "papermill": {
     "duration": 5.636734,
     "end_time": "2022-11-17T12:43:53.611214",
     "exception": false,
     "start_time": "2022-11-17T12:43:47.974480",
     "status": "completed"
    },
    "tags": []
   },
   "outputs": [],
   "source": [
    "write := writeS3(\"s3a://projet-vtl/interstat/work/students/middle_school\", work);\n",
    "status := show(write);"
   ]
  }
 ],
 "metadata": {
  "kernelspec": {
   "display_name": "Trevas VTL",
   "language": "vtl",
   "name": "trevas"
  },
  "language_info": {
   "file_extension": ".txt",
   "mimetype": "text/plain",
   "name": "Trevas VTL engine"
  },
  "papermill": {
   "default_parameters": {},
   "duration": 18.60948,
   "end_time": "2022-11-17T12:43:53.876677",
   "environment_variables": {},
   "exception": null,
   "input_path": "/home/onyxia/work/students/fr-en-college-effectifs-niveau-sexe-lv.ipynb",
   "output_path": "/home/onyxia/work/students/fr-en-college-effectifs-niveau-sexe-lv.ipynb",
   "parameters": {},
   "start_time": "2022-11-17T12:43:35.267197",
   "version": "2.3.4"
  }
 },
 "nbformat": 4,
 "nbformat_minor": 5
}
